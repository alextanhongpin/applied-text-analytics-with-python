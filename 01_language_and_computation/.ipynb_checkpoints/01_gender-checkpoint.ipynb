{
 "cells": [
  {
   "cell_type": "markdown",
   "metadata": {},
   "source": [
    "# Identifying gender predominant\n",
    "\n",
    "This example shows how to use language feature to identify gender predominant."
   ]
  },
  {
   "cell_type": "code",
   "execution_count": 1,
   "metadata": {},
   "outputs": [],
   "source": [
    "MALE = 'male'\n",
    "FEMALE = 'female'\n",
    "UNKNOWN = 'unknown'\n",
    "BOTH = 'both'"
   ]
  },
  {
   "cell_type": "code",
   "execution_count": 2,
   "metadata": {},
   "outputs": [],
   "source": [
    "MALE_WORDS = set([\n",
    "    'guy', 'spokesman', 'chairman', \"men's\", 'him', \"he's\", 'his',\n",
    "    'boy', 'boyfriend', 'boyfriends', 'boys', 'brother', 'brothers', 'dad',\n",
    "    'dads', 'dude', 'father', 'fathers', 'fiance', 'gentleman', 'gentlemen',\n",
    "    'god', 'grandfather', 'grandpa', 'grandson', 'groom', 'he', 'himself',\n",
    "    'husband', 'husbands', 'king', 'male', 'man', 'mr', 'nephew', 'nephews', \n",
    "    'priest', 'prince', 'son', 'sons', 'uncle', 'uncles', 'waiter', 'widower',\n",
    "    'widowers'\n",
    "])"
   ]
  },
  {
   "cell_type": "code",
   "execution_count": 3,
   "metadata": {},
   "outputs": [],
   "source": [
    "FEMALE_WORDS = set([\n",
    "    'heroine', 'spokeswoman', 'chairwoman', \"women's\", 'actress', 'women',\n",
    "    \"she's\", 'her', 'aunt', 'aunts', 'bride', 'daughter', \"daughters\", 'female',\n",
    "    'fiancee', 'girl', 'girlfriend', 'girlfriends', 'girld', 'godness',\n",
    "    'granddaughter' ,'grandma', 'grandmother', 'herself,', 'ladies', 'lady',\n",
    "    'mom', 'moms', 'mother', 'mothers', 'mrs', 'ms', 'niece', 'nieces', \n",
    "    'priestess', 'princess', 'queens', 'she', 'sister', 'sisters', 'waitress',\n",
    "    'widow', 'widows', 'wife', 'wives', 'woman'\n",
    "])"
   ]
  },
  {
   "cell_type": "code",
   "execution_count": 4,
   "metadata": {},
   "outputs": [],
   "source": [
    "def genderize(words):\n",
    "    mwlen = len(MALE_WORDS.intersection(words))\n",
    "    fwlen = len(FEMALE_WORDS.intersection(words))\n",
    "    \n",
    "    if mwlen > 0 and fwlen == 0:\n",
    "        return MALE\n",
    "    elif mwlen == 0 and fwlen > 0:\n",
    "        return FEMALE\n",
    "    elif mwlen > 0 and fwlen > 0:\n",
    "        return BOTH\n",
    "    else:\n",
    "        return UNKNOWN"
   ]
  },
  {
   "cell_type": "code",
   "execution_count": 6,
   "metadata": {},
   "outputs": [],
   "source": [
    "from collections import Counter\n",
    "\n",
    "def count_gender(sentences):\n",
    "    sents = Counter()\n",
    "    words = Counter()\n",
    "    \n",
    "    for sentence in sentences:\n",
    "        gender = genderize(sentence)\n",
    "        sents[gender] += 1\n",
    "        words[gender] += len(sentence)\n",
    "    \n",
    "    return sents, words"
   ]
  },
  {
   "cell_type": "code",
   "execution_count": 64,
   "metadata": {},
   "outputs": [],
   "source": [
    "import nltk\n",
    "\n",
    "def parse_gender(text):\n",
    "    sentences = [\n",
    "        [word.lower() for word in nltk.word_tokenize(sentence)]\n",
    "        for sentence in nltk.sent_tokenize(text)\n",
    "    ]\n",
    "    \n",
    "    sents, words = count_gender(sentences)\n",
    "    total = sum(words.values())\n",
    "    \n",
    "    for gender, count in words.items():\n",
    "        pcent = (count / total) * 100\n",
    "        nsents = sents[gender]\n",
    "        \n",
    "        print(\n",
    "            \"{:.3f}% {} ({} sentences)\".format(pcent, gender, nsents)\n",
    "        )"
   ]
  },
  {
   "cell_type": "code",
   "execution_count": 65,
   "metadata": {},
   "outputs": [],
   "source": [
    "text = '''Weathering with You (Japanese: 天気の子, Hepburn: Tenki no Ko, lit. \"Child of Weather\") is a 2019 Japanese animated romance/fantasy film written and directed by Makoto Shinkai. Set in Japan during a period of exceptionally rainy weather, the film tells the story of a high-school boy who runs away from his rural home to Tokyo and befriends an orphan girl who has the ability to manipulate the weather. The film was produced by Genki Kawamura, and the music was composed by Radwimps.\n",
    "\n",
    "The film was released in Japan on July 19, 2019; the previous day, a novel adaptation written by Shinkai—one of his original works—was published. A manga adaptation illustrated by Watari Kubota was first serialized in Kodansha's Afternoon on July 25 the same year. It was released in 140 countries throughout the world, earning over US$193.1 million worldwide and ¥14.06 billion in Japan. The film was selected as the Japanese entry for Best International Feature Film at the 92nd Academy Awards. It also received four Annie Award nominations including Best Independent Animated Feature.\n",
    "\n",
    "The film received generally positive reviews. On the review aggregator website Rotten Tomatoes, the film has a 91% rating, with the critics' consensus saying; it is beautifully animated and narratively engaged. On Metacritic, the film also got generally favorable reactions. Individual reviewers have also praised the film for its animation, plot, music, visuals, and use of weather to convey the story's metaphor. Some compared the film with Shinkai's previous work, Your Name, criticizing it for its lack of clarity of vision and unresolved plot threads.'''"
   ]
  },
  {
   "cell_type": "code",
   "execution_count": 66,
   "metadata": {},
   "outputs": [
    {
     "name": "stdout",
     "output_type": "stream",
     "text": [
      "76.568% unknown (12 sentences)\n",
      "14.191% both (1 sentences)\n",
      "9.241% male (1 sentences)\n"
     ]
    }
   ],
   "source": [
    "parse_gender(text)"
   ]
  }
 ],
 "metadata": {
  "kernelspec": {
   "display_name": "Python 3",
   "language": "python",
   "name": "python3"
  },
  "language_info": {
   "codemirror_mode": {
    "name": "ipython",
    "version": 3
   },
   "file_extension": ".py",
   "mimetype": "text/x-python",
   "name": "python",
   "nbconvert_exporter": "python",
   "pygments_lexer": "ipython3",
   "version": "3.8.5"
  }
 },
 "nbformat": 4,
 "nbformat_minor": 4
}
