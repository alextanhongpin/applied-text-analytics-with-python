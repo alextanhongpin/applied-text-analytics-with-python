{
 "cells": [
  {
   "cell_type": "code",
   "execution_count": 2,
   "metadata": {},
   "outputs": [],
   "source": [
    "from sklearn.model_selection import KFold\n",
    "import numpy as np\n",
    "\n",
    "class CorpusLoader(object):\n",
    "    def __init__(self, reader, folds=12, shuffle=True, categories=None):\n",
    "        self.reader = reader\n",
    "        self.folds = KFold(n_splits=folds,shuffle=shuffle)\n",
    "        self.files = np.asarray(self.reader.fileids(categories=categories))\n",
    "        \n",
    "    def fileids(self, idx=None):\n",
    "        if idx is None:\n",
    "            return self.files\n",
    "    \n",
    "        return self.files[idx]\n",
    "    \n",
    "    def documents(self, idx=None):\n",
    "        for fileid in self.fileids(idx):\n",
    "            yield list(self.reader.docs(fileids=[fileid]))\n",
    "    \n",
    "    def labels(self, idx=None):\n",
    "        return [\n",
    "            self.reader.categories(fileids=[fileid])[0]\n",
    "            for fileid in self.fileids(idx)\n",
    "        ]\n",
    "\n",
    "    def __iter__(self):\n",
    "        for train_index, test_index in self.folds.split(self.files):\n",
    "            X_train = self.documents(train_index)\n",
    "            y_train = self.labels(train_index)\n",
    "            \n",
    "            X_test = self.documents(test_index)\n",
    "            y_test = self.labels(test_index)\n",
    "            \n",
    "            yield X_train, X_test, y_train, y_test"
   ]
  }
 ],
 "metadata": {
  "kernelspec": {
   "display_name": "Python 3",
   "language": "python",
   "name": "python3"
  },
  "language_info": {
   "codemirror_mode": {
    "name": "ipython",
    "version": 3
   },
   "file_extension": ".py",
   "mimetype": "text/x-python",
   "name": "python",
   "nbconvert_exporter": "python",
   "pygments_lexer": "ipython3",
   "version": "3.8.5"
  }
 },
 "nbformat": 4,
 "nbformat_minor": 4
}
