{
 "cells": [
  {
   "cell_type": "code",
   "execution_count": 1,
   "metadata": {},
   "outputs": [],
   "source": [
    "# One Hot Encoding"
   ]
  },
  {
   "cell_type": "markdown",
   "metadata": {},
   "source": [
    "## With NLTK"
   ]
  },
  {
   "cell_type": "code",
   "execution_count": 26,
   "metadata": {},
   "outputs": [
    {
     "data": {
      "text/plain": [
       "[{'the': True,\n",
       "  'eleph': True,\n",
       "  'sneez': True,\n",
       "  'at': True,\n",
       "  'sight': True,\n",
       "  'of': True,\n",
       "  'potato': True},\n",
       " {'bat': True,\n",
       "  'can': True,\n",
       "  'see': True,\n",
       "  'via': True,\n",
       "  'echoloc': True,\n",
       "  'the': True,\n",
       "  'sight': True,\n",
       "  'sneez': True},\n",
       " {'wonder': True,\n",
       "  'she': True,\n",
       "  'open': True,\n",
       "  'the': True,\n",
       "  'door': True,\n",
       "  'to': True,\n",
       "  'studio': True}]"
      ]
     },
     "execution_count": 26,
     "metadata": {},
     "output_type": "execute_result"
    }
   ],
   "source": [
    "import nltk\n",
    "import string\n",
    "\n",
    "def tokenize(text):\n",
    "    stem = nltk.stem.SnowballStemmer('english')\n",
    "    text = text.lower()\n",
    "    \n",
    "    for token in nltk.word_tokenize(text):\n",
    "        if token in string.punctuation: continue\n",
    "        yield stem.stem(token)\n",
    "\n",
    "def vectorize(doc):\n",
    "    return {\n",
    "        token: True \n",
    "        for token in tokenize(doc)\n",
    "    }\n",
    "\n",
    "corpus = [\n",
    "    'The elephant sneezed at the sight of potatoes.',\n",
    "    'Bats can see via echolocation. See the bat sight sneeze!',\n",
    "    'Wondering, she opened the door to the studio.'\n",
    "]\n",
    "\n",
    "vectors = map(vectorize, corpus)\n",
    "list(vectors)"
   ]
  },
  {
   "cell_type": "markdown",
   "metadata": {},
   "source": [
    "## With Scikit Learn"
   ]
  },
  {
   "cell_type": "code",
   "execution_count": 27,
   "metadata": {},
   "outputs": [
    {
     "data": {
      "text/plain": [
       "array([[1, 0, 0, 0, 0, 0, 1, 1, 0, 1, 0, 0, 1, 0, 1, 0, 1, 0, 0, 0],\n",
       "       [0, 1, 1, 1, 0, 1, 0, 0, 0, 0, 1, 0, 1, 1, 0, 0, 1, 0, 1, 0],\n",
       "       [0, 0, 0, 0, 1, 0, 0, 0, 1, 0, 0, 1, 0, 0, 0, 1, 1, 1, 0, 1]])"
      ]
     },
     "execution_count": 27,
     "metadata": {},
     "output_type": "execute_result"
    }
   ],
   "source": [
    "from sklearn.preprocessing import Binarizer\n",
    "from sklearn.feature_extraction.text import CountVectorizer\n",
    "\n",
    "freq = CountVectorizer()\n",
    "corpus = freq.fit_transform(corpus)\n",
    "onehot = Binarizer()\n",
    "corpus = onehot.fit_transform(corpus.toarray())\n",
    "corpus"
   ]
  },
  {
   "cell_type": "markdown",
   "metadata": {},
   "source": [
    "## With Gensim"
   ]
  },
  {
   "cell_type": "code",
   "execution_count": null,
   "metadata": {},
   "outputs": [],
   "source": [
    "import sys\n",
    "\n",
    "!{sys.executable} -m pip install gensim"
   ]
  },
  {
   "cell_type": "code",
   "execution_count": 40,
   "metadata": {},
   "outputs": [
    {
     "data": {
      "text/plain": [
       "[[(0, 1), (1, 1), (2, 1), (3, 1), (4, 1), (5, 1), (6, 1)],\n",
       " [(4, 1), (5, 1), (6, 1), (7, 1), (8, 1), (9, 1), (10, 1), (11, 1)],\n",
       " [(6, 1), (12, 1), (13, 1), (14, 1), (15, 1), (16, 1), (17, 1)]]"
      ]
     },
     "execution_count": 40,
     "metadata": {},
     "output_type": "execute_result"
    }
   ],
   "source": [
    "import gensim \n",
    "\n",
    "corpus = [\n",
    "    'The elephant sneezed at the sight of potatoes.',\n",
    "    'Bats can see via echolocation. See the bat sight sneeze!',\n",
    "    'Wondering, she opened the door to the studio.'\n",
    "]\n",
    "corpus = [list(tokenize(doc)) for doc in corpus]\n",
    "id2word = gensim.corpora.Dictionary(corpus)\n",
    "vectors = [\n",
    "    [(token[0], 1) for token in id2word.doc2bow(doc)]\n",
    "    for doc in corpus\n",
    "]\n",
    "vectors"
   ]
  }
 ],
 "metadata": {
  "kernelspec": {
   "display_name": "Python 3",
   "language": "python",
   "name": "python3"
  },
  "language_info": {
   "codemirror_mode": {
    "name": "ipython",
    "version": 3
   },
   "file_extension": ".py",
   "mimetype": "text/x-python",
   "name": "python",
   "nbconvert_exporter": "python",
   "pygments_lexer": "ipython3",
   "version": "3.8.5"
  }
 },
 "nbformat": 4,
 "nbformat_minor": 4
}
