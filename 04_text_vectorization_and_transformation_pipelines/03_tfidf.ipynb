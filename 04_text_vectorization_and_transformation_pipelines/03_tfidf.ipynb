{
 "cells": [
  {
   "cell_type": "markdown",
   "metadata": {},
   "source": [
    "# TFIDF"
   ]
  },
  {
   "cell_type": "markdown",
   "metadata": {},
   "source": [
    "## With NLTK"
   ]
  },
  {
   "cell_type": "code",
   "execution_count": 33,
   "metadata": {},
   "outputs": [
    {
     "data": {
      "text/plain": [
       "[{'the': 0.0,\n",
       "  'eleph': 0.13732653608351372,\n",
       "  'sneez': 0.05068313851352055,\n",
       "  'at': 0.13732653608351372,\n",
       "  'sight': 0.05068313851352055,\n",
       "  'of': 0.13732653608351372,\n",
       "  'potato': 0.13732653608351372},\n",
       " {'bat': 0.21972245773362198,\n",
       "  'can': 0.10986122886681099,\n",
       "  'see': 0.21972245773362198,\n",
       "  'via': 0.10986122886681099,\n",
       "  'echoloc': 0.10986122886681099,\n",
       "  'the': 0.0,\n",
       "  'sight': 0.04054651081081644,\n",
       "  'sneez': 0.04054651081081644},\n",
       " {'wonder': 0.13732653608351372,\n",
       "  'she': 0.13732653608351372,\n",
       "  'open': 0.13732653608351372,\n",
       "  'the': 0.0,\n",
       "  'door': 0.13732653608351372,\n",
       "  'to': 0.13732653608351372,\n",
       "  'studio': 0.13732653608351372}]"
      ]
     },
     "execution_count": 33,
     "metadata": {},
     "output_type": "execute_result"
    }
   ],
   "source": [
    "from nltk.text import TextCollection\n",
    "import nltk\n",
    "import string\n",
    "\n",
    "def tokenize(text):\n",
    "    stem = nltk.stem.SnowballStemmer('english')\n",
    "    text = text.lower()\n",
    "    \n",
    "    for token in nltk.word_tokenize(text):\n",
    "        if token in string.punctuation: continue\n",
    "        yield stem.stem(token)\n",
    "\n",
    "\n",
    "def vectorize(corpus):\n",
    "    corpus = [list(tokenize(doc)) for doc in corpus]\n",
    "    texts = TextCollection(corpus)\n",
    "    \n",
    "    for doc in corpus:\n",
    "        yield {\n",
    "            term: texts.tf_idf(term, doc)\n",
    "            for term in doc\n",
    "        }\n",
    "\n",
    "corpus = [\n",
    "    'The elephant sneezed at the sight of potatoes.',\n",
    "    'Bats can see via echolocation. See the bat sight sneeze!',\n",
    "    'Wondering, she opened the door to the studio.'\n",
    "]\n",
    "\n",
    "vectors = list(vectorize(corpus))\n",
    "vectors"
   ]
  },
  {
   "cell_type": "markdown",
   "metadata": {},
   "source": [
    "## With Scikit-Learn"
   ]
  },
  {
   "cell_type": "code",
   "execution_count": 28,
   "metadata": {},
   "outputs": [
    {
     "data": {
      "text/plain": [
       "array([[0.37867627, 0.        , 0.        , 0.        , 0.        ,\n",
       "        0.        , 0.37867627, 0.37867627, 0.        , 0.37867627,\n",
       "        0.        , 0.        , 0.28799306, 0.        , 0.37867627,\n",
       "        0.        , 0.44730461, 0.        , 0.        , 0.        ],\n",
       "       [0.        , 0.30251368, 0.30251368, 0.30251368, 0.        ,\n",
       "        0.30251368, 0.        , 0.        , 0.        , 0.        ,\n",
       "        0.60502736, 0.        , 0.23006945, 0.30251368, 0.        ,\n",
       "        0.        , 0.17866945, 0.        , 0.30251368, 0.        ],\n",
       "       [0.        , 0.        , 0.        , 0.        , 0.36772387,\n",
       "        0.        , 0.        , 0.        , 0.36772387, 0.        ,\n",
       "        0.        , 0.36772387, 0.        , 0.        , 0.        ,\n",
       "        0.36772387, 0.43436728, 0.36772387, 0.        , 0.36772387]])"
      ]
     },
     "execution_count": 28,
     "metadata": {},
     "output_type": "execute_result"
    }
   ],
   "source": [
    "from sklearn.feature_extraction.text import TfidfVectorizer\n",
    "\n",
    "tfidf = TfidfVectorizer()\n",
    "transformed_corpus = tfidf.fit_transform(corpus)\n",
    "transformed_corpus.toarray()"
   ]
  },
  {
   "cell_type": "markdown",
   "metadata": {},
   "source": [
    "## With Gensim"
   ]
  },
  {
   "cell_type": "code",
   "execution_count": 29,
   "metadata": {},
   "outputs": [
    {
     "data": {
      "text/plain": [
       "[[(0, 0.4837965208957426),\n",
       "  (1, 0.4837965208957426),\n",
       "  (2, 0.4837965208957426),\n",
       "  (3, 0.4837965208957426),\n",
       "  (4, 0.17855490118826325),\n",
       "  (5, 0.17855490118826325)],\n",
       " [(4, 0.10992597952954358),\n",
       "  (5, 0.10992597952954358),\n",
       "  (7, 0.5956913654963344),\n",
       "  (8, 0.2978456827481672),\n",
       "  (9, 0.2978456827481672),\n",
       "  (10, 0.5956913654963344),\n",
       "  (11, 0.2978456827481672)],\n",
       " [(12, 0.408248290463863),\n",
       "  (13, 0.408248290463863),\n",
       "  (14, 0.408248290463863),\n",
       "  (15, 0.408248290463863),\n",
       "  (16, 0.408248290463863),\n",
       "  (17, 0.408248290463863)]]"
      ]
     },
     "execution_count": 29,
     "metadata": {},
     "output_type": "execute_result"
    }
   ],
   "source": [
    "import gensim\n",
    "\n",
    "corpus = [list(tokenize(doc)) for doc in corpus]\n",
    "lexicon = gensim.corpora.Dictionary(corpus)\n",
    "tfidf = gensim.models.TfidfModel(dictionary=lexicon, normalize=True)\n",
    "vectors = [tfidf[lexicon.doc2bow(doc)] for doc in corpus]\n",
    "vectors"
   ]
  },
  {
   "cell_type": "code",
   "execution_count": 31,
   "metadata": {},
   "outputs": [],
   "source": [
    "lexicon.save_as_text('lexicon.txt', sort_by_word=True)\n",
    "tfidf.save('tfidf.pkl')"
   ]
  },
  {
   "cell_type": "code",
   "execution_count": 32,
   "metadata": {},
   "outputs": [],
   "source": [
    "lexicon = gensim.corpora.Dictionary.load_from_text('lexicon.txt')\n",
    "tfidf = gensim.models.TfidfModel.load('tfidf.pkl')"
   ]
  }
 ],
 "metadata": {
  "kernelspec": {
   "display_name": "Python 3",
   "language": "python",
   "name": "python3"
  },
  "language_info": {
   "codemirror_mode": {
    "name": "ipython",
    "version": 3
   },
   "file_extension": ".py",
   "mimetype": "text/x-python",
   "name": "python",
   "nbconvert_exporter": "python",
   "pygments_lexer": "ipython3",
   "version": "3.8.5"
  }
 },
 "nbformat": 4,
 "nbformat_minor": 4
}
