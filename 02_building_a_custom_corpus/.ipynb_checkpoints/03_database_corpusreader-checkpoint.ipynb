{
 "cells": [
  {
   "cell_type": "code",
   "execution_count": 3,
   "metadata": {},
   "outputs": [],
   "source": [
    "import sqlite3\n",
    "\n",
    "class SqliteCorpusReader(object):\n",
    "    def __init__(self, path):\n",
    "        self._cur = sqlite3.connect(path).cursor()\n",
    "    \n",
    "    def ids(self):\n",
    "        \"\"\"\n",
    "        Returns the review ids, which enable joins to other\n",
    "        review metadata.\n",
    "        \"\"\"\n",
    "        self._cur.execute(\"SELECT reviewids FROM content\")\n",
    "        for idx in iter(self._cur.fetchone, None):\n",
    "            yield idx\n",
    "            \n",
    "    def scores(self):\n",
    "        \"\"\"\n",
    "        Returns the review score, to be used as the target \n",
    "        for later supervised learning problems.\n",
    "        \"\"\"\n",
    "        self._cur.execute(\"SELECT score FROM reviews\")\n",
    "        for score in iter(self._cur.fetchone, None):\n",
    "            yield score\n",
    "    \n",
    "    def texts(self):\n",
    "        \"\"\"\n",
    "        Returns the full review texts, to be preprocessed and vectorized\n",
    "        for supervised learning.\n",
    "        \"\"\"\n",
    "        self._cur.execute(\"SELECT content FROM content\")\n",
    "        for text in iter(self._cur.fetchone, None):\n",
    "            yield text"
   ]
  }
 ],
 "metadata": {
  "kernelspec": {
   "display_name": "Python 3",
   "language": "python",
   "name": "python3"
  },
  "language_info": {
   "codemirror_mode": {
    "name": "ipython",
    "version": 3
   },
   "file_extension": ".py",
   "mimetype": "text/x-python",
   "name": "python",
   "nbconvert_exporter": "python",
   "pygments_lexer": "ipython3",
   "version": "3.8.5"
  }
 },
 "nbformat": 4,
 "nbformat_minor": 4
}
