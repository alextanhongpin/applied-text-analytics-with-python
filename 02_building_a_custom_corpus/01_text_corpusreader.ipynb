{
 "cells": [
  {
   "cell_type": "code",
   "execution_count": 1,
   "metadata": {},
   "outputs": [],
   "source": [
    "from nltk.corpus.reader.plaintext import CategorizedPlaintextCorpusReader\n",
    "\n",
    "DOC_PATTERN = r'(?!\\.)[\\w_\\s]+/[\\w\\s\\d\\-]+\\.txt'\n",
    "CAT_PATTERN = r'([\\w_\\s]+)/.*'"
   ]
  },
  {
   "cell_type": "code",
   "execution_count": 4,
   "metadata": {},
   "outputs": [],
   "source": [
    "corpus = CategorizedPlaintextCorpusReader('./corpus', DOC_PATTERN, cat_pattern=CAT_PATTERN)"
   ]
  },
  {
   "cell_type": "code",
   "execution_count": 8,
   "metadata": {},
   "outputs": [
    {
     "data": {
      "text/plain": [
       "['Star Trek', 'Star Wars']"
      ]
     },
     "execution_count": 8,
     "metadata": {},
     "output_type": "execute_result"
    }
   ],
   "source": [
    "corpus.categories()"
   ]
  },
  {
   "cell_type": "code",
   "execution_count": 9,
   "metadata": {},
   "outputs": [
    {
     "data": {
      "text/plain": [
       "['Star Trek/Star Trek - Balance of Terror.txt',\n",
       " 'Star Trek/Star Trek - First Contact.txt',\n",
       " 'Star Trek/Star Trek - Generations.txt',\n",
       " 'Star Trek/Star Trek - Nemesis.txt',\n",
       " 'Star Trek/Star Trek - The Motion Picture.txt',\n",
       " 'Star Trek/Star Trek 2 - The Wrath of Khan.txt',\n",
       " 'Star Wars/Star Wars Episode 1.txt',\n",
       " 'Star Wars/Star Wars Episode 2.txt',\n",
       " 'Star Wars/Star Wars Episode 3.txt',\n",
       " 'Star Wars/Star Wars Episode 4.txt',\n",
       " 'Star Wars/Star Wars Episode 5.txt',\n",
       " 'Star Wars/Star Wars Episode 6.txt',\n",
       " 'Star Wars/Star Wars Episode 7.txt']"
      ]
     },
     "execution_count": 9,
     "metadata": {},
     "output_type": "execute_result"
    }
   ],
   "source": [
    "corpus.fileids()"
   ]
  },
  {
   "cell_type": "code",
   "execution_count": 10,
   "metadata": {},
   "outputs": [
    {
     "data": {
      "text/plain": [
       "['Star Trek/Star Trek - Balance of Terror.txt',\n",
       " 'Star Trek/Star Trek - First Contact.txt',\n",
       " 'Star Trek/Star Trek - Generations.txt',\n",
       " 'Star Trek/Star Trek - Nemesis.txt',\n",
       " 'Star Trek/Star Trek - The Motion Picture.txt',\n",
       " 'Star Trek/Star Trek 2 - The Wrath of Khan.txt']"
      ]
     },
     "execution_count": 10,
     "metadata": {},
     "output_type": "execute_result"
    }
   ],
   "source": [
    "corpus.fileids('Star Trek')"
   ]
  },
  {
   "cell_type": "code",
   "execution_count": null,
   "metadata": {},
   "outputs": [],
   "source": []
  }
 ],
 "metadata": {
  "kernelspec": {
   "display_name": "Python 3",
   "language": "python",
   "name": "python3"
  },
  "language_info": {
   "codemirror_mode": {
    "name": "ipython",
    "version": 3
   },
   "file_extension": ".py",
   "mimetype": "text/x-python",
   "name": "python",
   "nbconvert_exporter": "python",
   "pygments_lexer": "ipython3",
   "version": "3.8.5"
  }
 },
 "nbformat": 4,
 "nbformat_minor": 4
}
